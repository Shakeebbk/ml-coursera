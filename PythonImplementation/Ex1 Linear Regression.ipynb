{
 "cells": [
  {
   "cell_type": "code",
   "execution_count": 1,
   "metadata": {},
   "outputs": [],
   "source": [
    "import numpy as np\n",
    "\n",
    "import matplotlib.pyplot as plt\n"
   ]
  },
  {
   "cell_type": "markdown",
   "metadata": {},
   "source": [
    "# 1. Simple Functions"
   ]
  },
  {
   "cell_type": "code",
   "execution_count": 2,
   "metadata": {},
   "outputs": [
    {
     "name": "stdout",
     "output_type": "stream",
     "text": [
      "[[1. 0. 0. 0. 0.]\n",
      " [0. 1. 0. 0. 0.]\n",
      " [0. 0. 1. 0. 0.]\n",
      " [0. 0. 0. 1. 0.]\n",
      " [0. 0. 0. 0. 1.]]\n"
     ]
    }
   ],
   "source": [
    "A = np.identity(5)\n",
    "print(A)"
   ]
  },
  {
   "cell_type": "markdown",
   "metadata": {},
   "source": [
    "# 2. Linear Regression with one variable"
   ]
  },
  {
   "cell_type": "code",
   "execution_count": 3,
   "metadata": {},
   "outputs": [],
   "source": [
    "# 2.1 Plotting the data\n",
    "data = np.loadtxt('data/ex1data1.txt', delimiter=',')\n",
    "X = np.c_[data[:, 0]]\n",
    "y = np.c_[data[:, 1]]\n",
    "m = len(y)"
   ]
  },
  {
   "cell_type": "code",
   "execution_count": 4,
   "metadata": {},
   "outputs": [
    {
     "data": {
      "image/png": "[encoded data removed]",
      "text/plain": [
       "<Figure size 432x288 with 1 Axes>"
      ]
     },
     "metadata": {
      "needs_background": "light"
     },
     "output_type": "display_data"
    }
   ],
   "source": [
    "plt.scatter(X, y, s=30, c='r', marker='x', linewidths=1)\n",
    "plt.xlim(4,24)\n",
    "plt.xlabel('Population of City in 10,000s')\n",
    "plt.ylabel('Profit in $10,000s');"
   ]
  },
  {
   "cell_type": "markdown",
   "metadata": {},
   "source": [
    "### 2.2 Gradient Descent Functions\n",
    "**Cost Function**\n",
    "```\n",
    "TODO:update images of equations\n",
    "```"
   ]
  },
  {
   "cell_type": "code",
   "execution_count": 5,
   "metadata": {},
   "outputs": [],
   "source": [
    "# Assignment part\n",
    "def computeCost(X, y, theta):\n",
    "    m = y.size\n",
    "    J = 0\n",
    "\n",
    "    h = X.dot(theta)\n",
    "\n",
    "    J = ((1.0/(2.0*m)) * np.sum(np.square(h-y)))\n",
    "    \n",
    "    return J\n"
   ]
  },
  {
   "cell_type": "code",
   "execution_count": 12,
   "metadata": {},
   "outputs": [
    {
     "name": "stdout",
     "output_type": "stream",
     "text": [
      "[[0.]\n",
      " [0.]]\n",
      "With theta = [0, 0]\n",
      "Cost computed = 32.072734\n",
      "Expected cost value (approx) 32.07\n",
      "\n"
     ]
    }
   ],
   "source": [
    "X = np.c_[np.ones(m), data[:,0]] # Add column of ones\n",
    "theta = np.zeros((2, 1)) # Initializing fitting parameters\n",
    "\n",
    "iterations = 1500\n",
    "alpha = 0.01\n",
    "\n",
    "c = computeCost(X, y, theta)\n",
    "print (\"With theta = [0, 0]\\nCost computed = %f\" % (c))\n",
    "print ('Expected cost value (approx) 32.07\\n')"
   ]
  },
  {
   "cell_type": "code",
   "execution_count": 17,
   "metadata": {},
   "outputs": [
    {
     "name": "stdout",
     "output_type": "stream",
     "text": [
      "With theta = [-1, 2]\n",
      "Cost computed = 54.242455\n",
      "Expected cost value (approx) 54.24\n",
      "\n"
     ]
    }
   ],
   "source": [
    "theta = np.array([[-1],[2]])\n",
    "\n",
    "c = computeCost(X, y, theta)\n",
    "print (\"With theta = [-1, 2]\\nCost computed = %f\" % (c))\n",
    "print ('Expected cost value (approx) 54.24\\n')"
   ]
  },
  {
   "cell_type": "markdown",
   "metadata": {},
   "source": [
    "**Gradient descent**\n",
    "```\n",
    "TODO: update the formula here\n",
    "```"
   ]
  },
  {
   "cell_type": "code",
   "execution_count": 30,
   "metadata": {},
   "outputs": [],
   "source": [
    "# Assignment part\n",
    "def gradientDescent(X, y, theta, alpha, iterations):\n",
    "    m = y.size\n",
    "    J_history = np.zeros(iterations) # Storing historical costs for plotting and analysis\n",
    "    \n",
    "    for iter in range(0, iterations):\n",
    "        h = X.dot(theta)\n",
    "        \n",
    "        theta = theta - alpha * (1.0/m) * X.T.dot(h - y) # **REMEMBER** --> 1/m = 1.0/m for float considerations\n",
    "        \n",
    "        J_history[iter] = computeCost(X, y, theta)\n",
    "    \n",
    "    return (theta, J_history)\n",
    "        "
   ]
  },
  {
   "cell_type": "code",
   "execution_count": 33,
   "metadata": {},
   "outputs": [
    {
     "name": "stdout",
     "output_type": "stream",
     "text": [
      "Theta found by gradient descent:\n",
      "\n",
      "[-3.63029144  1.16636235]\n",
      "Expected theta values (approx)\n",
      "\n",
      "[-3.6303 1.1664]\n",
      "\n"
     ]
    }
   ],
   "source": [
    "theta = np.zeros((2, 1))\n",
    "theta, J_history = gradientDescent(X, y, theta, alpha, iterations)\n",
    "\n",
    "print ('Theta found by gradient descent:\\n');\n",
    "print (theta.ravel());\n",
    "print ('Expected theta values (approx)\\n');\n",
    "print ('[-3.6303 1.1664]\\n');"
   ]
  },
  {
   "cell_type": "code",
   "execution_count": 36,
   "metadata": {},
   "outputs": [
    {
     "data": {
      "text/plain": [
       "Text(0,0.5,'Cost J')"
      ]
     },
     "execution_count": 36,
     "metadata": {},
     "output_type": "execute_result"
    },
    {
     "data": {
      "image/png": "[encoded data removed]",
      "text/plain": [
       "<Figure size 432x288 with 1 Axes>"
      ]
     },
     "metadata": {
      "needs_background": "light"
     },
     "output_type": "display_data"
    }
   ],
   "source": [
    "plt.plot(J_history)\n",
    "plt.xlabel('iterations')\n",
    "plt.ylabel('Cost J')"
   ]
  },
  {
   "cell_type": "code",
   "execution_count": null,
   "metadata": {},
   "outputs": [],
   "source": []
  }
 ],
 "metadata": {
  "kernelspec": {
   "display_name": "coursera",
   "language": "python",
   "name": "coursera"
  },
  "language_info": {
   "codemirror_mode": {
    "name": "ipython",
    "version": 2
   },
   "file_extension": ".py",
   "mimetype": "text/x-python",
   "name": "python",
   "nbconvert_exporter": "python",
   "pygments_lexer": "ipython2",
   "version": "2.7.15"
  }
 },
 "nbformat": 4,
 "nbformat_minor": 2
}
